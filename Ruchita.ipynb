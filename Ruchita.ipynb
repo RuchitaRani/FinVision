{
  "nbformat": 4,
  "nbformat_minor": 0,
  "metadata": {
    "colab": {
      "provenance": []
    },
    "kernelspec": {
      "name": "python3",
      "display_name": "Python 3"
    },
    "language_info": {
      "name": "python"
    }
  },
  "cells": [
    {
      "cell_type": "code",
      "execution_count": 1,
      "metadata": {
        "id": "qQwluezCGAls"
      },
      "outputs": [],
      "source": [
        "import pandas as pd\n",
        "import yfinance as yf\n",
        "import numpy as np\n",
        "from scipy.stats import t, norm\n",
        "import matplotlib.pyplot as plt\n",
        "from statsmodels.tsa.stattools import adfuller, kpss\n"
      ]
    },
    {
      "cell_type": "markdown",
      "source": [
        "\n",
        "\n",
        "# Step 1: Load and Add Returns to DataFrame\n",
        "\n",
        "\n"
      ],
      "metadata": {
        "id": "SlpaSc0ZGDva"
      }
    },
    {
      "cell_type": "code",
      "source": [
        "import pandas as pd\n",
        "import yfinance as yf\n",
        "import numpy as np\n",
        "from scipy.stats import t, norm\n",
        "import matplotlib.pyplot as plt\n",
        "from statsmodels.tsa.stattools import adfuller, kpss\n",
        "\n",
        "# Load your JSON file\n",
        "data = pd.read_json(\"dat.json\")\n",
        "\n",
        "# Add '.NS' to all stock names\n",
        "data[\"name\"] = data[\"name\"] + \".NS\"\n"
      ],
      "metadata": {
        "id": "fmgHMsyLGQwf"
      },
      "execution_count": 6,
      "outputs": []
    },
    {
      "cell_type": "code",
      "source": [
        "# Function to calculate returns\n",
        "def calculate_returns(ticker):\n",
        "    try:\n",
        "        stock_data = yf.download(ticker, period=\"5y\")\n",
        "        close_prices = stock_data['Adj Close']\n",
        "        six_month_return = (close_prices[-1] - close_prices[-126]) / close_prices[-126] if len(close_prices) > 126 else np.nan\n",
        "        one_year_return = (close_prices[-1] - close_prices[-252]) / close_prices[-252] if len(close_prices) > 252 else np.nan\n",
        "        five_year_return = (close_prices[-1] - close_prices[0]) / close_prices[0] if len(close_prices) > 0 else np.nan\n",
        "        return six_month_return, one_year_return, five_year_return\n",
        "    except Exception as e:\n",
        "        return np.nan, np.nan, np.nan\n",
        "\n",
        "# Add returns to DataFrame\n",
        "returns = []\n",
        "for stock in data[\"name\"]:\n",
        "    six_month, one_year, five_year = calculate_returns(stock)\n",
        "    returns.append({\"6M Return\": six_month, \"1Y Return\": one_year, \"5Y Return\": five_year})\n",
        "\n",
        "returns_df = pd.DataFrame(returns)\n",
        "data = pd.concat([data, returns_df], axis=1)\n"
      ],
      "metadata": {
        "colab": {
          "base_uri": "https://localhost:8080/"
        },
        "id": "nq7o83d5Ka3x",
        "outputId": "4766d851-33be-4357-e246-626e3a758864"
      },
      "execution_count": 7,
      "outputs": [
        {
          "output_type": "stream",
          "name": "stderr",
          "text": [
            "[*********************100%***********************]  1 of 1 completed\n",
            "[*********************100%***********************]  1 of 1 completed\n",
            "[*********************100%***********************]  1 of 1 completed\n",
            "[*********************100%***********************]  1 of 1 completed\n",
            "[*********************100%***********************]  1 of 1 completed\n",
            "[*********************100%***********************]  1 of 1 completed\n",
            "[*********************100%***********************]  1 of 1 completed\n",
            "[*********************100%***********************]  1 of 1 completed\n",
            "[*********************100%***********************]  1 of 1 completed\n",
            "[*********************100%***********************]  1 of 1 completed\n",
            "[*********************100%***********************]  1 of 1 completed\n",
            "[*********************100%***********************]  1 of 1 completed\n",
            "[*********************100%***********************]  1 of 1 completed\n",
            "[*********************100%***********************]  1 of 1 completed\n",
            "[*********************100%***********************]  1 of 1 completed\n",
            "[*********************100%***********************]  1 of 1 completed\n",
            "[*********************100%***********************]  1 of 1 completed\n",
            "[*********************100%***********************]  1 of 1 completed\n",
            "[*********************100%***********************]  1 of 1 completed\n",
            "[*********************100%***********************]  1 of 1 completed\n",
            "[*********************100%***********************]  1 of 1 completed\n",
            "[*********************100%***********************]  1 of 1 completed\n",
            "[*********************100%***********************]  1 of 1 completed\n",
            "[*********************100%***********************]  1 of 1 completed\n",
            "[*********************100%***********************]  1 of 1 completed\n",
            "[*********************100%***********************]  1 of 1 completed\n",
            "[*********************100%***********************]  1 of 1 completed\n",
            "[*********************100%***********************]  1 of 1 completed\n",
            "[*********************100%***********************]  1 of 1 completed\n",
            "[*********************100%***********************]  1 of 1 completed\n",
            "[*********************100%***********************]  1 of 1 completed\n",
            "[*********************100%***********************]  1 of 1 completed\n",
            "[*********************100%***********************]  1 of 1 completed\n",
            "[*********************100%***********************]  1 of 1 completed\n",
            "[*********************100%***********************]  1 of 1 completed\n",
            "[*********************100%***********************]  1 of 1 completed\n",
            "[*********************100%***********************]  1 of 1 completed\n",
            "[*********************100%***********************]  1 of 1 completed\n",
            "[*********************100%***********************]  1 of 1 completed\n",
            "[*********************100%***********************]  1 of 1 completed\n",
            "[*********************100%***********************]  1 of 1 completed\n",
            "[*********************100%***********************]  1 of 1 completed\n",
            "[*********************100%***********************]  1 of 1 completed\n",
            "[*********************100%***********************]  1 of 1 completed\n",
            "[*********************100%***********************]  1 of 1 completed\n",
            "[*********************100%***********************]  1 of 1 completed\n",
            "[*********************100%***********************]  1 of 1 completed\n",
            "[*********************100%***********************]  1 of 1 completed\n",
            "[*********************100%***********************]  1 of 1 completed\n",
            "[*********************100%***********************]  1 of 1 completed\n"
          ]
        }
      ]
    },
    {
      "cell_type": "markdown",
      "source": [
        "#Step 2: Analyze Probability Distributions\n"
      ],
      "metadata": {
        "id": "dWGWgQF_GTmX"
      }
    },
    {
      "cell_type": "code",
      "source": [
        "# Select a stock\n",
        "stock_ticker = \"RELIANCE.NS\"\n",
        "stock_data = yf.download(stock_ticker, period=\"1y\")\n",
        "\n",
        "# Calculate daily returns\n",
        "stock_data['Daily Return'] = stock_data['Adj Close'].pct_change()\n",
        "\n",
        "# Plot probability distributions\n",
        "def plot_distribution(data, title):\n",
        "    plt.hist(data.dropna(), bins=30, density=True, alpha=0.6, color='g')\n",
        "    plt.title(title)\n",
        "    plt.show()\n",
        "\n",
        "plot_distribution(stock_data['Volume'], \"Daily Volume Distribution\")\n",
        "plot_distribution(stock_data['Adj Close'], \"Daily Close Price Distribution\")\n",
        "plot_distribution(stock_data['Daily Return'], \"Daily Returns Distribution\")\n",
        "\n"
      ],
      "metadata": {
        "colab": {
          "base_uri": "https://localhost:8080/",
          "height": 1000
        },
        "id": "YGLaJyQRGUNB",
        "outputId": "5ebfc77c-63df-476c-bbb5-6708c2a840b8"
      },
      "execution_count": 8,
      "outputs": [
        {
          "output_type": "stream",
          "name": "stderr",
          "text": [
            "\r[*********************100%***********************]  1 of 1 completed\n"
          ]
        },
        {
          "output_type": "display_data",
          "data": {
            "text/plain": [
              "<Figure size 640x480 with 1 Axes>"
            ],
            "image/png": "[encoded data removed]"
          },
          "metadata": {}
        },
        {
          "output_type": "display_data",
          "data": {
            "text/plain": [
              "<Figure size 640x480 with 1 Axes>"
            ],
            "image/png": "[encoded data removed]"
          },
          "metadata": {}
        },
        {
          "output_type": "display_data",
          "data": {
            "text/plain": [
              "<Figure size 640x480 with 1 Axes>"
            ],
            "image/png": "[encoded data removed]"
          },
          "metadata": {}
        }
      ]
    },
    {
      "cell_type": "markdown",
      "source": [
        "Step 3: Statistical Metrics (T-Score, Z-Score, Confidence Interval)\n"
      ],
      "metadata": {
        "id": "yw2Qm63iGXnU"
      }
    },
    {
      "cell_type": "code",
      "source": [
        "# T-Score and Z-Score\n",
        "mean_return = stock_data['Daily Return'].mean()\n",
        "std_return = stock_data['Daily Return'].std()\n",
        "\n",
        "t_score = (mean_return - 0) / (std_return / np.sqrt(len(stock_data['Daily Return'].dropna())))\n",
        "z_score = (mean_return - 0) / std_return\n",
        "\n",
        "# Confidence Interval\n",
        "confidence_interval = norm.interval(0.95, loc=mean_return, scale=std_return / np.sqrt(len(stock_data['Daily Return'].dropna())))\n",
        "\n",
        "print(f\"T-Score: {t_score}\")\n",
        "print(f\"Z-Score: {z_score}\")\n",
        "print(f\"95% Confidence Interval: {confidence_interval}\")\n",
        "\n"
      ],
      "metadata": {
        "colab": {
          "base_uri": "https://localhost:8080/"
        },
        "id": "t-37S0N5GYd-",
        "outputId": "ed860e60-a99a-44cf-84bc-9603a8d6c9e1"
      },
      "execution_count": 9,
      "outputs": [
        {
          "output_type": "stream",
          "name": "stdout",
          "text": [
            "T-Score: 0.008732702870658833\n",
            "Z-Score: 0.0005567767992433437\n",
            "95% Confidence Interval: (-0.0017876837391714061, 0.0018036852363466011)\n"
          ]
        }
      ]
    },
    {
      "cell_type": "markdown",
      "source": [
        "Step 4: Stationary/Non-Stationary Analysis\n"
      ],
      "metadata": {
        "id": "gwd9CCIsGbrv"
      }
    },
    {
      "cell_type": "code",
      "source": [
        "# KPSS Test\n",
        "def kpss_test(series):\n",
        "    statistic, p_value, _, _ = kpss(series, regression='c')\n",
        "    return p_value > 0.05\n",
        "\n",
        "# ADF Test\n",
        "def adf_test(series):\n",
        "    statistic, p_value, _, _, _, _ = adfuller(series)\n",
        "    return p_value < 0.05\n",
        "\n",
        "# Check for stationarity\n",
        "stationarity_results = []\n",
        "for stock in data[\"name\"][:2]:  # Example with the first two stocks\n",
        "    stock_data = yf.download(stock, period=\"1y\")['Adj Close'].dropna()\n",
        "    kpss_result = kpss_test(stock_data)\n",
        "    adf_result = adf_test(stock_data)\n",
        "    stationarity_results.append({\"Stock\": stock, \"KPSS Non-Stationary\": not kpss_result, \"ADF Stationary\": adf_result})\n",
        "\n",
        "stationarity_df = pd.DataFrame(stationarity_results)\n",
        "print(stationarity_df)\n"
      ],
      "metadata": {
        "colab": {
          "base_uri": "https://localhost:8080/"
        },
        "id": "FqulRIG1GcN3",
        "outputId": "daa16944-cfd9-482b-c2e3-ebd8fbffb3f6"
      },
      "execution_count": 10,
      "outputs": [
        {
          "output_type": "stream",
          "name": "stderr",
          "text": [
            "[*********************100%***********************]  1 of 1 completed\n",
            "<ipython-input-10-1fe68be61036>:3: InterpolationWarning: The test statistic is outside of the range of p-values available in the\n",
            "look-up table. The actual p-value is smaller than the p-value returned.\n",
            "\n",
            "  statistic, p_value, _, _ = kpss(series, regression='c')\n",
            "[*********************100%***********************]  1 of 1 completed"
          ]
        },
        {
          "output_type": "stream",
          "name": "stdout",
          "text": [
            "        Stock  KPSS Non-Stationary  ADF Stationary\n",
            "0    TRENT.NS                 True           False\n",
            "1  DRREDDY.NS                 True           False\n"
          ]
        },
        {
          "output_type": "stream",
          "name": "stderr",
          "text": [
            "\n",
            "<ipython-input-10-1fe68be61036>:3: InterpolationWarning: The test statistic is outside of the range of p-values available in the\n",
            "look-up table. The actual p-value is smaller than the p-value returned.\n",
            "\n",
            "  statistic, p_value, _, _ = kpss(series, regression='c')\n"
          ]
        }
      ]
    },
    {
      "cell_type": "code",
      "source": [
        "import pandas as pd\n",
        "import yfinance as yf\n",
        "from statsmodels.tsa.stattools import kpss, adfuller\n",
        "from prettytable import PrettyTable\n",
        "\n",
        "# KPSS Test\n",
        "def kpss_test(series):\n",
        "    statistic, p_value, _, _ = kpss(series, regression='c', nlags=\"auto\")\n",
        "    return p_value > 0.05\n",
        "\n",
        "# ADF Test\n",
        "def adf_test(series):\n",
        "    statistic, p_value, _, _, _, _ = adfuller(series, autolag='AIC')\n",
        "    return p_value < 0.05\n",
        "\n",
        "# Check for stationarity\n",
        "stationarity_results = []\n",
        "for stock in [\"RELIANCE.NS\", \"TCS.NS\"]:  # Replace with your stock tickers\n",
        "    stock_data = yf.download(stock, period=\"1y\")['Adj Close'].dropna()\n",
        "    kpss_result = kpss_test(stock_data)\n",
        "    adf_result = adf_test(stock_data)\n",
        "    stationarity_results.append({\n",
        "        \"Stock\": stock,\n",
        "        \"KPSS Non-Stationary\": not kpss_result,\n",
        "        \"ADF Stationary\": adf_result\n",
        "    })\n",
        "\n",
        "stationarity_df = pd.DataFrame(stationarity_results)\n",
        "\n",
        "# Pretty display\n",
        "table = PrettyTable()\n",
        "table.field_names = [\"Stock\", \"KPSS Non-Stationary\", \"ADF Stationary\"]\n",
        "for _, row in stationarity_df.iterrows():\n",
        "    table.add_row([row[\"Stock\"], row[\"KPSS Non-Stationary\"], row[\"ADF Stationary\"]])\n",
        "\n",
        "print(table)\n"
      ],
      "metadata": {
        "colab": {
          "base_uri": "https://localhost:8080/"
        },
        "id": "732I2TziLurG",
        "outputId": "459f2714-5065-4204-ba01-65de4021de99"
      },
      "execution_count": 11,
      "outputs": [
        {
          "output_type": "stream",
          "name": "stderr",
          "text": [
            "[*********************100%***********************]  1 of 1 completed\n",
            "[*********************100%***********************]  1 of 1 completed"
          ]
        },
        {
          "output_type": "stream",
          "name": "stdout",
          "text": [
            "+-------------+---------------------+----------------+\n",
            "|    Stock    | KPSS Non-Stationary | ADF Stationary |\n",
            "+-------------+---------------------+----------------+\n",
            "| RELIANCE.NS |         True        |     False      |\n",
            "|    TCS.NS   |         True        |     False      |\n",
            "+-------------+---------------------+----------------+\n"
          ]
        },
        {
          "output_type": "stream",
          "name": "stderr",
          "text": [
            "\n",
            "<ipython-input-11-9a701ed24aab>:8: InterpolationWarning: The test statistic is outside of the range of p-values available in the\n",
            "look-up table. The actual p-value is smaller than the p-value returned.\n",
            "\n",
            "  statistic, p_value, _, _ = kpss(series, regression='c', nlags=\"auto\")\n"
          ]
        }
      ]
    }
  ]
}